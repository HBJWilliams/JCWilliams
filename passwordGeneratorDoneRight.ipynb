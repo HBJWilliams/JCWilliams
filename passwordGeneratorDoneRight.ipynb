{
 "cells": [
  {
   "cell_type": "code",
   "execution_count": null,
   "id": "24a5b608",
   "metadata": {},
   "outputs": [],
   "source": [
    "# import json\n",
    "# import secrets\n",
    "# import ast"
   ]
  },
  {
   "cell_type": "code",
   "execution_count": null,
   "id": "879db29f",
   "metadata": {
    "tags": []
   },
   "outputs": [],
   "source": [
    "\n",
    "print(myEFFList)"
   ]
  },
  {
   "cell_type": "code",
   "execution_count": null,
   "id": "11a5cc55",
   "metadata": {},
   "outputs": [],
   "source": [
    "from secrets import SystemRandom\n",
    "# source=r'C:\\Users\\HBJWi\\Dropbox\\scripts_python\\password_indexes.csv'\n",
    "# Getting systemRandom class instance out of secrets module\n",
    "secretsGenerator = SystemRandom()\n",
    "with open('EFF_list.txt','r') as f:\n",
    "    myEFFList=f.read()\n",
    "myEFFList=myEFFList.replace(\"[\",\"\").replace(\"]\",\"\").replace(\"'\",\"\").replace(\" \",\"\").split(',')\n",
    "with open('List2048.txt','r') as f:\n",
    "    my2048List=f.read()\n",
    "my2048List=my2048List.replace(\"[\",\"\").replace(\"]\",\"\").replace(\"'\",\"\").replace(\" \",\"\").split(',')"
   ]
  },
  {
   "cell_type": "code",
   "execution_count": null,
   "id": "ac193288",
   "metadata": {},
   "outputs": [],
   "source": [
    "def generatePasswordList(filepath):\n",
    "    with (filepath,'r') as f:\n",
    "        passwordList = f.read()\n",
    "    passwordList = (passwordList\n",
    "                    .replace(\"[\",\"\")\n",
    "                    .replace(\"]\",\"\")\n",
    "                    .replace(\"'\",\"\")\n",
    "                    .replace(\" \",\"\")\n",
    "                    .split(',')\n",
    "                   )\n",
    "    return passwordList\n",
    "\n",
    "    "
   ]
  },
  {
   "cell_type": "code",
   "execution_count": null,
   "id": "b8a461c2",
   "metadata": {},
   "outputs": [],
   "source": [
    "# random integer number using secrets\n",
    "my2048PasswordList=[]\n",
    "numberOfPasswordsGenerated=6\n",
    "numberOfWordsInEachPassword=6\n",
    "for i in range(numberOfPasswordsGenerated):\n",
    "    my2048RngList=[]\n",
    "    for my in range(numberOfWordsInEachPassword):\n",
    "        my2048RngList.append(secretsGenerator.randint(0,2048))\n",
    "    my2048Password=\"1!\"+\"\".join([my2048List[my] for my in my2048RngList])\n",
    "    my2048PasswordList.append(my2048Password)\n",
    "for i in my2048PasswordList:\n",
    "    print(i)"
   ]
  },
  {
   "cell_type": "code",
   "execution_count": null,
   "id": "294d94eb",
   "metadata": {},
   "outputs": [],
   "source": [
    "# random integer number using secrets\n",
    "my7776PasswordList=[]\n",
    "numberOfPasswordsGenerated=6\n",
    "numberOfWordsInEachPassword=6\n",
    "for i in range(numberOfPasswordsGenerated):\n",
    "    my7776RngList=[]\n",
    "    for my in range(numberOfWordsInEachPassword):\n",
    "        my7776RngList.append(secretsGenerator.randint(0,7776))\n",
    "    my7776Password=\"1!\"+\"\".join([myEFFList[my] for my in my7776RngList])\n",
    "    my7776PasswordList.append(my7776Password)\n",
    "for i in my7776PasswordList:\n",
    "    print(i)"
   ]
  },
  {
   "cell_type": "markdown",
   "id": "05c17967",
   "metadata": {},
   "source": [
    "Okay, so the code below this works for generating as many passwords as you need. It also does so securely."
   ]
  },
  {
   "cell_type": "code",
   "execution_count": null,
   "id": "334827a5",
   "metadata": {},
   "outputs": [],
   "source": [
    "def myPasswordGenerator(numberOfPasswordsGenerated:int,\n",
    "                        numberOfWordsInEachPassword:int,\n",
    "                       passwordType:str):\n",
    "    from secrets import SystemRandom\n",
    "    secretsGenerator = SystemRandom()\n",
    "    if passwordType == \"EFF\":\n",
    "        file_path = 'EFF_list.txt'\n",
    "        listLength = 7776\n",
    "    elif passwordType == '2048':\n",
    "        file_path = 'List2048.txt'\n",
    "        listLength = 2048\n",
    "        \n",
    "    def generatePasswordList(file_path):\n",
    "        with open(file_path,'r') as f:\n",
    "            passwordList = f.read()\n",
    "        passwordList = (passwordList.replace(\"[\",\"\").replace(\"]\",\"\")\n",
    "                        .replace(\"'\",\"\").replace(\" \",\"\").split(',')\n",
    "                       )\n",
    "        return passwordList\n",
    "    passwordList = generatePasswordList(file_path)\n",
    "    myPasswordList = [] \n",
    "    for i in range(numberOfPasswordsGenerated):\n",
    "        myRngList = [secretsGenerator.randint(0,listLength) \n",
    "                     for my in range(numberOfWordsInEachPassword)]\n",
    "        myPassword =  \"1!\"+\"\".join([passwordList[my] for my in myRngList])\n",
    "        myPasswordList.append(myPassword)\n",
    "    return myPasswordList\n"
   ]
  },
  {
   "cell_type": "markdown",
   "id": "1a23d2ef",
   "metadata": {},
   "source": [
    "Gives a dictionary of 2048 3-character words\n",
    "```python\n",
    "with open('Dict2048.txt','r') as f:\n",
    "    myDict=json.loads(f.read())\n",
    "```\n",
    "Gives a dictionary of 7776 words that can be typed all in lowercase in one string.\n",
    "\n",
    "For example: \n",
    " - `youcanwritethetextinalllowercase` \n",
    " - `YOUCANWRITETHETEXTINALLUPPERCASE` \n",
    "\n",
    "That said, `IPreferThisSinceItIsEasierToRead`\n",
    "```python\n",
    "with open('EFF_list.txt','r') as f:\n",
    "    myDict=json.loads(f.read())\n",
    "```\n",
    "\n",
    "```python\n",
    "with open('EFF_list.txt','r') as f:\n",
    "    myDict=json.loads(f.read())\n",
    "```\n",
    "\n",
    "This gives me the word that matches the randomly chosen index given by `someNumber`. Note that `someNumber` needs to be a string in order for this to work. This is because the dtype of the list of numbers in the dictionary created are actually strings.\n",
    "```python\n",
    "myDict.get(str(someNumber),False)\n",
    "```\n",
    "\n"
   ]
  },
  {
   "cell_type": "code",
   "execution_count": 2,
   "id": "c79d6532",
   "metadata": {},
   "outputs": [],
   "source": [
    "with open('example.txt','w') as f:\n",
    "    exampleList = dir(f)"
   ]
  },
  {
   "cell_type": "code",
   "execution_count": 3,
   "id": "019badcc-e95e-4527-bc53-b60e7f674041",
   "metadata": {
    "tags": []
   },
   "outputs": [
    {
     "data": {
      "text/plain": [
       "['_CHUNK_SIZE',\n",
       " '__class__',\n",
       " '__del__',\n",
       " '__delattr__',\n",
       " '__dict__',\n",
       " '__dir__',\n",
       " '__doc__',\n",
       " '__enter__',\n",
       " '__eq__',\n",
       " '__exit__',\n",
       " '__format__',\n",
       " '__ge__',\n",
       " '__getattribute__',\n",
       " '__getstate__',\n",
       " '__gt__',\n",
       " '__hash__',\n",
       " '__init__',\n",
       " '__init_subclass__',\n",
       " '__iter__',\n",
       " '__le__',\n",
       " '__lt__',\n",
       " '__ne__',\n",
       " '__new__',\n",
       " '__next__',\n",
       " '__reduce__',\n",
       " '__reduce_ex__',\n",
       " '__repr__',\n",
       " '__setattr__',\n",
       " '__sizeof__',\n",
       " '__str__',\n",
       " '__subclasshook__',\n",
       " '_checkClosed',\n",
       " '_checkReadable',\n",
       " '_checkSeekable',\n",
       " '_checkWritable',\n",
       " '_finalizing',\n",
       " 'buffer',\n",
       " 'close',\n",
       " 'closed',\n",
       " 'detach',\n",
       " 'encoding',\n",
       " 'errors',\n",
       " 'fileno',\n",
       " 'flush',\n",
       " 'isatty',\n",
       " 'line_buffering',\n",
       " 'mode',\n",
       " 'name',\n",
       " 'newlines',\n",
       " 'read',\n",
       " 'readable',\n",
       " 'readline',\n",
       " 'readlines',\n",
       " 'reconfigure',\n",
       " 'seek',\n",
       " 'seekable',\n",
       " 'tell',\n",
       " 'truncate',\n",
       " 'writable',\n",
       " 'write',\n",
       " 'write_through',\n",
       " 'writelines']"
      ]
     },
     "execution_count": 3,
     "metadata": {},
     "output_type": "execute_result"
    }
   ],
   "source": [
    "\n",
    "exampleList"
   ]
  },
  {
   "cell_type": "code",
   "execution_count": null,
   "id": "9181dd01-e3d6-42fa-b898-0da39d9144f2",
   "metadata": {},
   "outputs": [],
   "source": []
  }
 ],
 "metadata": {
  "kernelspec": {
   "display_name": "Python 3 (ipykernel)",
   "language": "python",
   "name": "python3"
  },
  "language_info": {
   "codemirror_mode": {
    "name": "ipython",
    "version": 3
   },
   "file_extension": ".py",
   "mimetype": "text/x-python",
   "name": "python",
   "nbconvert_exporter": "python",
   "pygments_lexer": "ipython3",
   "version": "3.11.5"
  }
 },
 "nbformat": 4,
 "nbformat_minor": 5
}
